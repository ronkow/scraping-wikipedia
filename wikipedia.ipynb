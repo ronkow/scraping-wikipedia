{
 "cells": [
  {
   "cell_type": "code",
   "execution_count": 1,
   "metadata": {},
   "outputs": [
    {
     "name": "stdout",
     "output_type": "stream",
     "text": [
      "Yesterday is a 2019 romantic comedy film directed by Danny Boyle and written by Richard Curtis, based on a story  by Jack Barth and Curtis. It stars Himesh Patel as struggling musician Jack Malik, who, after an accident, finds himself the only person who remembers the Beatles and becomes famous after taking credit for their songs. The film also stars Lily James as the protagonist's childhood friend and love interest, Kate McKinnon as his manager, and Ed Sheeran as a fictionalised version of himself.\n",
      "The project was announced in March 2018. Filming began the following month around England, particularly Suffolk. Photography also took place at Wembley Stadium, Principality Stadium and in Los Angeles. The filmmakers paid $10 million for the rights to use the Beatles' music; although none of the Beatles were involved, Boyle received blessings from them and their families.\n",
      "Yesterday had its world premiere at the Tribeca Film Festival on 4 May 2019, and was released in the United Kingdom and the United States on 28 June 2019, by Universal Pictures. The film grossed $142 million worldwide against a production budget of $26 million, and received mixed reviews from critics, with praise for the premise, performances and musical sequences, but criticism of the familiarity and not taking the concept further.\n",
      "\n",
      "\n"
     ]
    }
   ],
   "source": [
    "import wikipedia\n",
    "\n",
    "# Store the text in the Summary section as a string\n",
    "text_summary = wikipedia.WikipediaPage(title = 'Yesterday (2019 film)').summary\n",
    "print(text_summary)"
   ]
  },
  {
   "cell_type": "code",
   "execution_count": 2,
   "metadata": {},
   "outputs": [
    {
     "name": "stdout",
     "output_type": "stream",
     "text": [
      "Himesh Patel as Jack Malik\n",
      "Karma Sood as young Jack Malik\n",
      "Lily James as Ellie Appleton\n",
      "Jaimie Kollmer as young Ellie Appleton\n",
      "Joel Fry as Rocky\n",
      "Kate McKinnon as Debra Hammer\n",
      "Ed Sheeran as himself\n",
      "Lamorne Morris as Head of Marketing\n",
      "Sophia Di Martino as Carol\n",
      "Ellise Chappell as Lucy\n",
      "Harry Michell as Nick\n",
      "Camille Chen as Wendy\n",
      "Alexander Arnold as Gavin\n",
      "James Corden as himself\n",
      "Sanjeev Bhaskar as Jed Malik\n",
      "Meera Syal as Shelia Malik\n",
      "Karl Theobald as Terry\n",
      "Justin Edwards as Leo\n",
      "Sarah Lancashire as Liz\n",
      "Michael Kiwanuka as himself\n",
      "Robert Carlyle as John Lennon (uncredited)\n"
     ]
    }
   ],
   "source": [
    "# Store the text in four other sections as strings\n",
    "text_plot = wikipedia.WikipediaPage(title = 'Yesterday (2019 film)').section('Plot')\n",
    "text_cast = wikipedia.WikipediaPage(title = 'Yesterday (2019 film)').section('Cast')\n",
    "text_release = wikipedia.WikipediaPage(title = 'Yesterday (2019 film)').section('Release')\n",
    "text_market = wikipedia.WikipediaPage(title = 'Yesterday (2019 film)').section('Marketing')\n",
    "print(text_cast)"
   ]
  },
  {
   "cell_type": "code",
   "execution_count": 3,
   "metadata": {},
   "outputs": [
    {
     "data": {
      "text/plain": [
       "6"
      ]
     },
     "execution_count": 3,
     "metadata": {},
     "output_type": "execute_result"
    }
   ],
   "source": [
    "import pandas as pd\n",
    "\n",
    "# search for <table> tags and parses all text within the tags\n",
    "tables = pd.read_html(\"https://en.wikipedia.org/wiki/Yesterday_(2019_film)\")\n",
    "\n",
    "# print the number of DataFrames in the list\n",
    "len(tables)"
   ]
  },
  {
   "cell_type": "code",
   "execution_count": 4,
   "metadata": {},
   "outputs": [
    {
     "name": "stdout",
     "output_type": "stream",
     "text": [
      "                    Yesterday  \\\n",
      "0   Theatrical release poster   \n",
      "1                 Directed by   \n",
      "2                 Produced by   \n",
      "3               Screenplay by   \n",
      "4                    Story by   \n",
      "5                    Starring   \n",
      "6                    Music by   \n",
      "7              Cinematography   \n",
      "8                   Edited by   \n",
      "9           Productioncompany   \n",
      "10             Distributed by   \n",
      "11               Release date   \n",
      "12               Running time   \n",
      "13                    Country   \n",
      "14                   Language   \n",
      "15                     Budget   \n",
      "16                 Box office   \n",
      "\n",
      "                                          Yesterday.1  \n",
      "0                           Theatrical release poster  \n",
      "1                                         Danny Boyle  \n",
      "2   Tim Bevan Eric Fellner Bernie Bellew Matthew J...  \n",
      "3                                      Richard Curtis  \n",
      "4                           Jack Barth Richard Curtis  \n",
      "5    Himesh Patel Lily James Ed Sheeran Kate McKinnon  \n",
      "6                                    Daniel Pemberton  \n",
      "7                                    Christopher Ross  \n",
      "8                                          Jon Harris  \n",
      "9   Perfect World Pictures Working Title Films Dec...  \n",
      "10                                 Universal Pictures  \n",
      "11                    4 May 2019Tribeca) 28 June 2019  \n",
      "12                                        116 minutes  \n",
      "13                        United KingdomUnited States  \n",
      "14                                            English  \n",
      "15                                     $26 million[1]  \n",
      "16                                  $144.3 million[1]  \n"
     ]
    }
   ],
   "source": [
    "print(tables[0])"
   ]
  },
  {
   "cell_type": "code",
   "execution_count": 5,
   "metadata": {},
   "outputs": [],
   "source": [
    "tables[0].to_csv(\"infobox_yesterday.csv\", index = False)"
   ]
  },
  {
   "cell_type": "code",
   "execution_count": 6,
   "metadata": {},
   "outputs": [
    {
     "name": "stdout",
     "output_type": "stream",
     "text": [
      "                                             Summary  \\\n",
      "0  Yesterday is a 2019 romantic comedy film direc...   \n",
      "\n",
      "                                                Plot  \\\n",
      "0  Jack Malik is a struggling singer-songwriter f...   \n",
      "\n",
      "                                                Cast  \n",
      "0  Himesh Patel as Jack Malik\\nKarma Sood as youn...  \n"
     ]
    }
   ],
   "source": [
    "import numpy as np\n",
    "\n",
    "# Create a list for the three string objects\n",
    "list_yesterday = [text_summary, text_plot, text_cast ]\n",
    "\n",
    "# Create a list for the column labels of the DataFrame\n",
    "list_sections = ['Summary', 'Plot', 'Cast']\n",
    "\n",
    "# Convert the list to a numpy array, and then create the DataFrame\n",
    "df_yesterday = pd.DataFrame(np.array(list_yesterday).reshape(1,3), columns = list(list_sections))\n",
    "print(df_yesterday)"
   ]
  },
  {
   "cell_type": "code",
   "execution_count": 7,
   "metadata": {},
   "outputs": [],
   "source": [
    "# Create the CSV file\n",
    "df_yesterday.to_csv('yesterday.csv', sep = ',', index = False)"
   ]
  },
  {
   "cell_type": "code",
   "execution_count": null,
   "metadata": {},
   "outputs": [],
   "source": []
  }
 ],
 "metadata": {
  "kernelspec": {
   "display_name": "Python 3",
   "language": "python",
   "name": "python3"
  },
  "language_info": {
   "codemirror_mode": {
    "name": "ipython",
    "version": 3
   },
   "file_extension": ".py",
   "mimetype": "text/x-python",
   "name": "python",
   "nbconvert_exporter": "python",
   "pygments_lexer": "ipython3",
   "version": "3.6.8"
  }
 },
 "nbformat": 4,
 "nbformat_minor": 2
}
